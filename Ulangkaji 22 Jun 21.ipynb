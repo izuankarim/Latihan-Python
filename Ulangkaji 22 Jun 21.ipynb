{
 "cells": [
  {
   "cell_type": "code",
   "execution_count": 1,
   "id": "b51f0f05",
   "metadata": {},
   "outputs": [],
   "source": [
    "#Types of Variables in Python"
   ]
  },
  {
   "cell_type": "code",
   "execution_count": 2,
   "id": "bca69849",
   "metadata": {},
   "outputs": [
    {
     "data": {
      "text/plain": [
       "4"
      ]
     },
     "execution_count": 2,
     "metadata": {},
     "output_type": "execute_result"
    }
   ],
   "source": [
    "#Sum of two numbers\n",
    "\n",
    "2+2"
   ]
  },
  {
   "cell_type": "code",
   "execution_count": 3,
   "id": "baf762e3",
   "metadata": {},
   "outputs": [
    {
     "data": {
      "text/plain": [
       "6"
      ]
     },
     "execution_count": 3,
     "metadata": {},
     "output_type": "execute_result"
    }
   ],
   "source": [
    "#Product of two numbers\n",
    "\n",
    "2*3"
   ]
  },
  {
   "cell_type": "code",
   "execution_count": 4,
   "id": "faf51029",
   "metadata": {},
   "outputs": [
    {
     "data": {
      "text/plain": [
       "3.0"
      ]
     },
     "execution_count": 4,
     "metadata": {},
     "output_type": "execute_result"
    }
   ],
   "source": [
    "#Dividing two numbers\n",
    "\n",
    "9/3"
   ]
  },
  {
   "cell_type": "code",
   "execution_count": 5,
   "id": "97fec665",
   "metadata": {},
   "outputs": [
    {
     "data": {
      "text/plain": [
       "1"
      ]
     },
     "execution_count": 5,
     "metadata": {},
     "output_type": "execute_result"
    }
   ],
   "source": [
    "#Remainder from division of two numbers\n",
    "10%3"
   ]
  },
  {
   "cell_type": "code",
   "execution_count": 6,
   "id": "482cb7f5",
   "metadata": {
    "scrolled": true
   },
   "outputs": [
    {
     "data": {
      "text/plain": [
       "16"
      ]
     },
     "execution_count": 6,
     "metadata": {},
     "output_type": "execute_result"
    }
   ],
   "source": [
    "#Power\n",
    "\n",
    "4**2"
   ]
  },
  {
   "cell_type": "code",
   "execution_count": null,
   "id": "1a1fe43b",
   "metadata": {},
   "outputs": [],
   "source": []
  },
  {
   "cell_type": "code",
   "execution_count": 7,
   "id": "04950427",
   "metadata": {},
   "outputs": [
    {
     "data": {
      "text/plain": [
       "3"
      ]
     },
     "execution_count": 7,
     "metadata": {},
     "output_type": "execute_result"
    }
   ],
   "source": [
    "#Nak tau data type\n",
    "\n",
    "a = 3\n",
    "a"
   ]
  },
  {
   "cell_type": "code",
   "execution_count": 8,
   "id": "02c5a81b",
   "metadata": {},
   "outputs": [
    {
     "data": {
      "text/plain": [
       "int"
      ]
     },
     "execution_count": 8,
     "metadata": {},
     "output_type": "execute_result"
    }
   ],
   "source": [
    "type(a)"
   ]
  },
  {
   "cell_type": "code",
   "execution_count": null,
   "id": "5bd019e4",
   "metadata": {},
   "outputs": [],
   "source": []
  },
  {
   "cell_type": "code",
   "execution_count": 9,
   "id": "18128b91",
   "metadata": {},
   "outputs": [],
   "source": [
    "#Perbezaan antara pakai float VS round\n",
    "#float akan hanya ambil nombor sblm titik perpuluhan, tanpa round -up/down\n",
    "#round akan round-up/down, ikut no slps titik perpuluhan\n",
    "\n",
    "b = 1.94"
   ]
  },
  {
   "cell_type": "code",
   "execution_count": 10,
   "id": "c7784af5",
   "metadata": {},
   "outputs": [
    {
     "data": {
      "text/plain": [
       "float"
      ]
     },
     "execution_count": 10,
     "metadata": {},
     "output_type": "execute_result"
    }
   ],
   "source": [
    "type(b)"
   ]
  },
  {
   "cell_type": "code",
   "execution_count": 11,
   "id": "87c4539c",
   "metadata": {},
   "outputs": [
    {
     "data": {
      "text/plain": [
       "1"
      ]
     },
     "execution_count": 11,
     "metadata": {},
     "output_type": "execute_result"
    }
   ],
   "source": [
    "int(b)"
   ]
  },
  {
   "cell_type": "code",
   "execution_count": 12,
   "id": "6aeb89f7",
   "metadata": {},
   "outputs": [
    {
     "data": {
      "text/plain": [
       "2"
      ]
     },
     "execution_count": 12,
     "metadata": {},
     "output_type": "execute_result"
    }
   ],
   "source": [
    "round(b)"
   ]
  },
  {
   "cell_type": "code",
   "execution_count": 13,
   "id": "c0430ab2",
   "metadata": {},
   "outputs": [
    {
     "data": {
      "text/plain": [
       "'1.94'"
      ]
     },
     "execution_count": 13,
     "metadata": {},
     "output_type": "execute_result"
    }
   ],
   "source": [
    "str(b)"
   ]
  },
  {
   "cell_type": "code",
   "execution_count": 14,
   "id": "c671dbee",
   "metadata": {},
   "outputs": [
    {
     "data": {
      "text/plain": [
       "float"
      ]
     },
     "execution_count": 14,
     "metadata": {},
     "output_type": "execute_result"
    }
   ],
   "source": [
    "type(b) # <-- tengok.. dia still maintain type mcm yg kau define awal2. even kau dh buat str(b) pun... maksudnya dia cuma manipulate data kau je... dia xubah data yg kau dh define. even kau dh ubah type dari float jd str"
   ]
  },
  {
   "cell_type": "code",
   "execution_count": 15,
   "id": "7aaff5b0",
   "metadata": {},
   "outputs": [
    {
     "data": {
      "text/plain": [
       "12.0"
      ]
     },
     "execution_count": 15,
     "metadata": {},
     "output_type": "execute_result"
    }
   ],
   "source": [
    "144**0.5"
   ]
  },
  {
   "cell_type": "code",
   "execution_count": null,
   "id": "d381b28e",
   "metadata": {},
   "outputs": [],
   "source": []
  },
  {
   "cell_type": "code",
   "execution_count": 16,
   "id": "a10489ab",
   "metadata": {},
   "outputs": [],
   "source": [
    "#Boolean operators\n",
    "\n",
    "# \"==\" sama dgn\n",
    "# \"!=\" not equal\n",
    "# \"<\" less than\n",
    "# \">\" more than\n",
    "# \"not\""
   ]
  },
  {
   "cell_type": "code",
   "execution_count": 17,
   "id": "4bc0cc95",
   "metadata": {},
   "outputs": [
    {
     "name": "stdout",
     "output_type": "stream",
     "text": [
      "Salam Ali\n"
     ]
    }
   ],
   "source": [
    "#Using Boolean operators on str\n",
    "\n",
    "greet = \"Salam\"\n",
    "person = \"Ali\"\n",
    "\n",
    "tegur = greet + ' ' + person\n",
    "print (tegur)"
   ]
  },
  {
   "cell_type": "code",
   "execution_count": 18,
   "id": "87bf4c84",
   "metadata": {},
   "outputs": [
    {
     "name": "stdout",
     "output_type": "stream",
     "text": [
      "Siapa nama anda?ha\n",
      "Salam ha\n"
     ]
    }
   ],
   "source": [
    "#Mintak input from user\n",
    "\n",
    "nama = input (\"Siapa nama anda?\")\n",
    "print (greet, nama)"
   ]
  },
  {
   "cell_type": "code",
   "execution_count": 19,
   "id": "022dc0ae",
   "metadata": {},
   "outputs": [
    {
     "name": "stdout",
     "output_type": "stream",
     "text": [
      "What is the side length of the square? 12\n",
      "144\n"
     ]
    }
   ],
   "source": [
    "#Exercise1\n",
    "\n",
    "#Create a program:\n",
    "#1) that asks the user for the side length of a square. \n",
    "#2) Then compute the area of this square and print your result.\n",
    "\n",
    "side = int(input(\"What is the side length of the square? \")) #<-- define datatype 1st before masuk input\n",
    "square = side**2\n",
    "print (square)"
   ]
  },
  {
   "cell_type": "code",
   "execution_count": 20,
   "id": "5077746f",
   "metadata": {},
   "outputs": [
    {
     "name": "stdout",
     "output_type": "stream",
     "text": [
      "0\n",
      "2\n",
      "4\n",
      "Counter Siap!!!\n"
     ]
    }
   ],
   "source": [
    "#While loop\n",
    "#With the while loop we can execute a set of statements as long as a condition is true.\n",
    "#Print pengira as long as pengira is less than 5:\n",
    "\n",
    "i = 0\n",
    "while i < 5:\n",
    "    print (i) #sebab print ni dlm loop,  dia akan print semua value...\n",
    "    i = i + 2\n",
    "print (\"Counter Siap!!!\")\n",
    "\n",
    "# i = i+1, This means get the current value of i, add one, and then update i with the new value."
   ]
  },
  {
   "cell_type": "code",
   "execution_count": 21,
   "id": "2fc63867",
   "metadata": {},
   "outputs": [
    {
     "name": "stdout",
     "output_type": "stream",
     "text": [
      "1\n",
      "3\n",
      "12\n"
     ]
    }
   ],
   "source": [
    "#contoh lagi\n",
    "\n",
    "produk = 1\n",
    "y = 3\n",
    "\n",
    "while y < 5:\n",
    "    print (produk)\n",
    "    produk = produk*y\n",
    "    y = y + 1\n",
    "    \n",
    "    #1st round: produk = 1*3 = 3\n",
    "    #2nd round: produk = 3*(3+1) = 12\n",
    "\n",
    "print (produk) #sebab print ni luar daripada loop, dia cuma print final value je..."
   ]
  },
  {
   "cell_type": "code",
   "execution_count": 24,
   "id": "9ff50856",
   "metadata": {},
   "outputs": [
    {
     "name": "stdout",
     "output_type": "stream",
     "text": [
      "18\n"
     ]
    }
   ],
   "source": [
    "#Exercise 2\n",
    "\n",
    "#Create a program with these steps:\n",
    "#1) variable x starting at 5 (x = 5) , sum = 0\n",
    "#2) x increases value by 1 at a time\n",
    "#3) While x < 8\n",
    "#4) Sum up all x values \n",
    "#5) Print your final sum of x\n",
    "\n",
    "#solution\n",
    "\n",
    "x = 5\n",
    "sum = 0\n",
    "\n",
    "while x < 8:\n",
    "    sum = sum + x\n",
    "    x = x + 1\n",
    "\n",
    "print(sum) #xtau jawapan betul ke salah... nk kena check... camne nk check?\n",
    "\n",
    "# aku rasa betul sebab... dia akan start dgn 5, lepas tu 7...8. total kan semua dpt 18... kan?"
   ]
  },
  {
   "cell_type": "code",
   "execution_count": 27,
   "id": "7eec2017",
   "metadata": {},
   "outputs": [
    {
     "name": "stdout",
     "output_type": "stream",
     "text": [
      "hai sumer\n",
      "hai sumer\n",
      "hai sumer\n",
      "hai sumer\n",
      "hai sumer\n"
     ]
    }
   ],
   "source": [
    "#for loop\n",
    "\n",
    "for i in range(5):\n",
    "    print(\"hai sumer\")"
   ]
  },
  {
   "cell_type": "code",
   "execution_count": 30,
   "id": "84ef9276",
   "metadata": {},
   "outputs": [
    {
     "data": {
      "text/plain": [
       "range(0, 5)"
      ]
     },
     "execution_count": 30,
     "metadata": {},
     "output_type": "execute_result"
    }
   ],
   "source": [
    "#what is range 5?\n",
    "\n",
    "range(5)\n"
   ]
  },
  {
   "cell_type": "code",
   "execution_count": 32,
   "id": "7afb4ef9",
   "metadata": {},
   "outputs": [
    {
     "data": {
      "text/plain": [
       "[0, 1, 2, 3, 4]"
      ]
     },
     "execution_count": 32,
     "metadata": {},
     "output_type": "execute_result"
    }
   ],
   "source": [
    "list(range(5))"
   ]
  },
  {
   "cell_type": "code",
   "execution_count": 33,
   "id": "3beccf0f",
   "metadata": {},
   "outputs": [
    {
     "name": "stdout",
     "output_type": "stream",
     "text": [
      "helo sumer 0\n",
      "helo sumer 1\n",
      "helo sumer 2\n",
      "helo sumer 3\n",
      "helo sumer 4\n"
     ]
    }
   ],
   "source": [
    "for i in range (5):\n",
    "    print (\"helo sumer\", i)"
   ]
  },
  {
   "cell_type": "code",
   "execution_count": 35,
   "id": "a30d458e",
   "metadata": {},
   "outputs": [
    {
     "name": "stdout",
     "output_type": "stream",
     "text": [
      "lima darab  0  jawapannya  0\n",
      "lima darab  1  jawapannya  5\n",
      "lima darab  2  jawapannya  10\n",
      "lima darab  3  jawapannya  15\n",
      "lima darab  4  jawapannya  20\n"
     ]
    }
   ],
   "source": [
    "#contoh lain utk for loop\n",
    "\n",
    "f = 5\n",
    "for i in range (5):\n",
    "    g = f*i\n",
    "    print (\"lima darab \", i, \" jawapannya \", g)"
   ]
  },
  {
   "cell_type": "code",
   "execution_count": 37,
   "id": "866abe7c",
   "metadata": {},
   "outputs": [
    {
     "name": "stdout",
     "output_type": "stream",
     "text": [
      "15\n"
     ]
    }
   ],
   "source": [
    "#Exercise 3 – for Loop\n",
    "#Create a program with these steps:\n",
    "#1) For variable x in the range(6)\n",
    "#2) Sum up all x values\n",
    "#3) Print your final sum of x\n",
    "#*Be sure to define sum = 0 first!\n",
    "\n",
    "#solution\n",
    "\n",
    "sum = 0\n",
    "for x in range (6):\n",
    "    sum = sum + x\n",
    "    x = x + 1\n",
    "\n",
    "print (sum)"
   ]
  },
  {
   "cell_type": "code",
   "execution_count": 38,
   "id": "ac5ceb83",
   "metadata": {},
   "outputs": [
    {
     "data": {
      "text/plain": [
       "[0, 1, 2, 3, 4, 5]"
      ]
     },
     "execution_count": 38,
     "metadata": {},
     "output_type": "execute_result"
    }
   ],
   "source": [
    "list(range (6))"
   ]
  },
  {
   "cell_type": "code",
   "execution_count": 41,
   "id": "44e7b006",
   "metadata": {},
   "outputs": [
    {
     "name": "stdout",
     "output_type": "stream",
     "text": [
      "a kurang dari b\n"
     ]
    }
   ],
   "source": [
    "#The ‘if’ Statements\n",
    "\n",
    "#example 1\n",
    "\n",
    "a = 55\n",
    "b = 77\n",
    "\n",
    "if a < b:\n",
    "    print (\"a kurang dari b\")"
   ]
  },
  {
   "cell_type": "code",
   "execution_count": 42,
   "id": "b680368a",
   "metadata": {},
   "outputs": [
    {
     "data": {
      "text/plain": [
       "False"
      ]
     },
     "execution_count": 42,
     "metadata": {},
     "output_type": "execute_result"
    }
   ],
   "source": [
    "a > b"
   ]
  },
  {
   "cell_type": "code",
   "execution_count": 43,
   "id": "57e49753",
   "metadata": {},
   "outputs": [
    {
     "data": {
      "text/plain": [
       "True"
      ]
     },
     "execution_count": 43,
     "metadata": {},
     "output_type": "execute_result"
    }
   ],
   "source": [
    "a < b"
   ]
  },
  {
   "cell_type": "code",
   "execution_count": 45,
   "id": "20d2b3fa",
   "metadata": {},
   "outputs": [
    {
     "name": "stdout",
     "output_type": "stream",
     "text": [
      "c besar dari d\n"
     ]
    }
   ],
   "source": [
    "#The ‘if - else’ Statements\n",
    "\n",
    "#example\n",
    "\n",
    "c = 33\n",
    "d = 44\n",
    "\n",
    "if c > d:\n",
    "    print (\"c kecik dari d\")\n",
    "else:\n",
    "    print (\"c besar dari d\")"
   ]
  },
  {
   "cell_type": "code",
   "execution_count": 48,
   "id": "d037dfc1",
   "metadata": {},
   "outputs": [
    {
     "name": "stdout",
     "output_type": "stream",
     "text": [
      "e besar dari d\n",
      "selesai\n"
     ]
    }
   ],
   "source": [
    "#The ‘elif’ Statements – “less than”\n",
    "\n",
    "#example\n",
    "\n",
    "e = 22\n",
    "d = 33\n",
    "\n",
    "if e > d:\n",
    "    print (\"e kurang dari d\")\n",
    "elif e==d:\n",
    "    print (\"e sam dgn d\")\n",
    "else:\n",
    "    print (\"e besar dari d\")\n",
    "    \n",
    "print (\"selesai\")"
   ]
  },
  {
   "cell_type": "code",
   "execution_count": 50,
   "id": "cb28d64f",
   "metadata": {},
   "outputs": [
    {
     "name": "stdout",
     "output_type": "stream",
     "text": [
      "Tinggi anda dlm m?1.72\n",
      "berat anda dlm kg?95\n",
      "GEMOKKKK!!!\n"
     ]
    }
   ],
   "source": [
    "#Exercise 4 – Build a BMI Calculator\n",
    "\n",
    "#Create a program:\n",
    "#1) Ask user to enter their height(meters) and weight(kg)\n",
    "#2) that calculates a person’s BMI (Body Mass Index), based on the formula:\n",
    "#BMI = Weight (kg)/Height(m)2\n",
    "#Then print out a message indicating whether if he/she is:\n",
    "#Normal Weight: BMI <= 25, or\n",
    "#Over Weight: BMI >2\n",
    "\n",
    "#solution\n",
    "\n",
    "tinggi = float (input (\"Tinggi anda dlm m?\"))\n",
    "berat = float (input (\"berat anda dlm kg?\"))\n",
    "\n",
    "BMI = berat / tinggi**2\n",
    "\n",
    "if BMI <= 25:\n",
    "    print (\"Normal\")\n",
    "else:\n",
    "    print (\"GEMOKKKK!!!\")"
   ]
  },
  {
   "cell_type": "code",
   "execution_count": null,
   "id": "e5334d85",
   "metadata": {},
   "outputs": [],
   "source": []
  }
 ],
 "metadata": {
  "kernelspec": {
   "display_name": "Python 3",
   "language": "python",
   "name": "python3"
  },
  "language_info": {
   "codemirror_mode": {
    "name": "ipython",
    "version": 3
   },
   "file_extension": ".py",
   "mimetype": "text/x-python",
   "name": "python",
   "nbconvert_exporter": "python",
   "pygments_lexer": "ipython3",
   "version": "3.8.8"
  }
 },
 "nbformat": 4,
 "nbformat_minor": 5
}
